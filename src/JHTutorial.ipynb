{
 "cells": [
  {
   "cell_type": "markdown",
   "metadata": {},
   "source": [
    "# GlobusWorld 2018 JupyterHub Tutorial\n",
    "\n",
    "This tutorial will show you how to pull Globus Auth tokens from the Jupyter Notebook Server environment and use them to interact with different REST APIs secured with Globus Auth. The code in this notebook are very pedantic for clarity at each step; much of this code could be encapsulated in Python packages to simplify the work in the notebook. Research project could also add more semantically meaningful layers for their users (e.g., `MyData.download()` rather \n",
    "than `request.get('https://example.org/mydata.csv`)`."
   ]
  },
  {
   "cell_type": "markdown",
   "metadata": {},
   "source": [
    "## Import Packages"
   ]
  },
  {
   "cell_type": "code",
   "execution_count": 1,
   "metadata": {},
   "outputs": [],
   "source": [
    "# These are to get the tokens\n",
    "import os\n",
    "import pickle\n",
    "import base64\n",
    "\n",
    "# Much of what we're dealing with is JSON\n",
    "import json\n",
    "\n",
    "# We're going to be making explicit HTTPS calls\n",
    "import requests\n",
    "\n",
    "# This is to work with data for our example\n",
    "import numpy\n",
    "import matplotlib\n",
    "from io import StringIO"
   ]
  },
  {
   "cell_type": "markdown",
   "metadata": {},
   "source": [
    "## Get Tokens\n",
    "\n",
    "The tokens are passed into the environment `base64` encoded pickled Python dictionary assigned to the `GLOBUS_DATA` variable. We'll grab the variable and unpack it. "
   ]
  },
  {
   "cell_type": "code",
   "execution_count": 2,
   "metadata": {},
   "outputs": [],
   "source": [
    "globus_env_data = os.getenv('GLOBUS_DATA')"
   ]
  },
  {
   "cell_type": "code",
   "execution_count": 3,
   "metadata": {},
   "outputs": [
    {
     "name": "stdout",
     "output_type": "stream",
     "text": [
      "gAN9cQAoWAkAAABjbGllbnRfaWRxAVgkAAAAZjNhNjg3YTMtZWJkYy00ZWQ2LWFmNWItYzE2YTJkMmEzZmQ5cQJYBgAAAHRva2Vuc3EDfXEEKFgPAAAAYXV0aC5nbG9idXMub3JncQV9cQYoWAUAAABzY29wZXEHWBQAAABwcm9maWxlIG9wZW5pZCBlbWFpbHEIWAwAAABhY2Nlc3NfdG9rZW5xCVhkAAAAQWc0Mnd6RTZkajdZdjYyV28xZ1gwWU5ERG5Fbks3bTRxeDVNazlWQmE4SjRuZTRXb1d0N0MxOHZ3VkphMXcxTnZwbDJ6enBhVmd6ejZ5Q2p2SzVkR1VWS25FY3lnQjlUNFlWeXEKWA0AAAByZWZyZXNoX3Rva2VucQtOWAoAAAB0b2tlbl90eXBlcQxYBgAAAEJlYXJlcnENWBIAAABleHBpcmVzX2F0X3NlY29uZHNxDkq4MuFadVgTAAAAcGV0cmVsX2h0dHBzX3NlcnZlcnEPfXEQKGgHWEcAAABodHRwczovL2F1dGguZ2xvYnVzLm9yZy9zY29wZXMvNTZjZWFjMjktZTk4YS00NDBhLWE1OTQtYjQxZTdhMDg0YjYyL2FsbHERaAlYWgAAAEFnT1Y3b3Yyb0dtbmRCUXlYa2xsSk0zMjVLT1AzN3d5eTJLWDdPUDVwNHJKcGRQYWpLaW5DQk5NbE9qak5NN283eXFXN3JtcDZORDJ6bUZlOG12YTRUNTEwMXESaAtOaAxYBgAAAEJlYXJlcnETaA5KuDLhWnVYFwAAAHRyYW5zZmVyLmFwaS5nbG9idXMub3JncRR9cRUoaAdYMQAAAHVybjpnbG9idXM6YXV0aDpzY29wZTp0cmFuc2Zlci5hcGkuZ2xvYnVzLm9yZzphbGxxFmgJWFoAAABBZzBOUHl6Qmp4TTNrZWFwYmJ3cDZsWFdQcjU0WDY1SjNiZTU3dmpOS01wcnFXVzY0WVQ3QzNnZDM5SzBnT3hnTVY3WE4yeTQxcjN6Mkt1dzE0UTV5VHdZenlxF2gLTmgMWAYAAABCZWFyZXJxGGgOSrgy4Vp1dVgIAAAAaWRfdG9rZW5xGX1xGihYAwAAAGF1ZHEbWCQAAABmM2E2ODdhMy1lYmRjLTRlZDYtYWY1Yi1jMTZhMmQyYTNmZDlxHFgeAAAAaWRlbnRpdHlfcHJvdmlkZXJfZGlzcGxheV9uYW1lcR1YCQAAAEdsb2J1cyBJRHEeWAMAAABzdWJxH1gkAAAAYzRlMTZlNjItZDI3NC0xMWU1LWI5ZTktY2YwMjI1MDY4Y2U4cSBYAwAAAGlzc3EhWBcAAABodHRwczovL2F1dGguZ2xvYnVzLm9yZ3EiWBIAAABwcmVmZXJyZWRfdXNlcm5hbWVxI1gVAAAAcnB3YWduZXJAZ2xvYnVzaWQub3JncSRYBwAAAGF0X2hhc2hxJVgrAAAAR0ZkRENzcXFGTkcyNkdBS093bHBwdzdtazNMM2dBRnh0MUxPNzl6ZWNRRXEmWBEAAABpZGVudGl0eV9wcm92aWRlcnEnWCQAAAA0MTE0Mzc0My1mM2M4LTRkNjAtYmJkYi1lZWVjYWJhODViZDlxKFgDAAAAZXhwcSlKuDLhWlgDAAAAaWF0cSpKuI/eWlgMAAAAb3JnYW5pemF0aW9ucStYBgAAAEdsb2J1c3EsWAUAAABlbWFpbHEtWA8AAAByaWNrQGdsb2J1cy5vcmdxLlgEAAAAbmFtZXEvWAsAAABSaWNrIFdhZ25lcnEwdXUu\n"
     ]
    }
   ],
   "source": [
    "# This is the raw base64 encoded data\n",
    "print(globus_env_data)"
   ]
  },
  {
   "cell_type": "code",
   "execution_count": 4,
   "metadata": {},
   "outputs": [],
   "source": [
    "# Now we have the pickled tokens\n",
    "pickled_tokens = base64.b64decode(globus_env_data)"
   ]
  },
  {
   "cell_type": "code",
   "execution_count": 5,
   "metadata": {},
   "outputs": [
    {
     "data": {
      "text/plain": [
       "True"
      ]
     },
     "execution_count": 5,
     "metadata": {},
     "output_type": "execute_result"
    }
   ],
   "source": [
    "# Unpickle and get the dictionary\n",
    "tokens = pickle.loads(pickled_tokens)\n",
    "isinstance(tokens, dict)"
   ]
  },
  {
   "cell_type": "markdown",
   "metadata": {},
   "source": [
    "## Look Inside the Tokens\n",
    "\n",
    "Depending on the JupyterHub configuration, there will be different numbers of tokens. For this tutorial we have our identity token as __[JSON Web Token (JWT)](https://tools.ietf.org/html/rfc7519)__, and then access tokens for different Resource Servers and scopes, like getting our profile from Globus Auth."
   ]
  },
  {
   "cell_type": "code",
   "execution_count": 6,
   "metadata": {},
   "outputs": [
    {
     "name": "stdout",
     "output_type": "stream",
     "text": [
      "{\n",
      "    \"client_id\": \"f3a687a3-ebdc-4ed6-af5b-c16a2d2a3fd9\",\n",
      "    \"id_token\": {\n",
      "        \"at_hash\": \"GFdDCsqqFNG26GAKOwlppw7mk3L3gAFxt1LO79zecQE\",\n",
      "        \"aud\": \"f3a687a3-ebdc-4ed6-af5b-c16a2d2a3fd9\",\n",
      "        \"email\": \"rick@globus.org\",\n",
      "        \"exp\": 1524708024,\n",
      "        \"iat\": 1524535224,\n",
      "        \"identity_provider\": \"41143743-f3c8-4d60-bbdb-eeecaba85bd9\",\n",
      "        \"identity_provider_display_name\": \"Globus ID\",\n",
      "        \"iss\": \"https://auth.globus.org\",\n",
      "        \"name\": \"Rick Wagner\",\n",
      "        \"organization\": \"Globus\",\n",
      "        \"preferred_username\": \"rpwagner@globusid.org\",\n",
      "        \"sub\": \"c4e16e62-d274-11e5-b9e9-cf0225068ce8\"\n",
      "    },\n",
      "    \"tokens\": {\n",
      "        \"auth.globus.org\": {\n",
      "            \"access_token\": \"Ag42wzE6dj7Yv62Wo1gX0YNDDnEnK7m4qx5Mk9VBa8J4ne4WoWt7C18vwVJa1w1Nvpl2zzpaVgzz6yCjvK5dGUVKnEcygB9T4YVy\",\n",
      "            \"expires_at_seconds\": 1524708024,\n",
      "            \"refresh_token\": null,\n",
      "            \"scope\": \"profile openid email\",\n",
      "            \"token_type\": \"Bearer\"\n",
      "        },\n",
      "        \"petrel_https_server\": {\n",
      "            \"access_token\": \"AgOV7ov2oGmndBQyXkllJM325KOP37wyy2KX7OP5p4rJpdPajKinCBNMlOjjNM7o7yqW7rmp6ND2zmFe8mva4T5101\",\n",
      "            \"expires_at_seconds\": 1524708024,\n",
      "            \"refresh_token\": null,\n",
      "            \"scope\": \"https://auth.globus.org/scopes/56ceac29-e98a-440a-a594-b41e7a084b62/all\",\n",
      "            \"token_type\": \"Bearer\"\n",
      "        },\n",
      "        \"transfer.api.globus.org\": {\n",
      "            \"access_token\": \"Ag0NPyzBjxM3keapbbwp6lXWPr54X65J3be57vjNKMprqWW64YT7C3gd39K0gOxgMV7XN2y41r3z2Kuw14Q5yTwYzy\",\n",
      "            \"expires_at_seconds\": 1524708024,\n",
      "            \"refresh_token\": null,\n",
      "            \"scope\": \"urn:globus:auth:scope:transfer.api.globus.org:all\",\n",
      "            \"token_type\": \"Bearer\"\n",
      "        }\n",
      "    }\n",
      "}\n"
     ]
    }
   ],
   "source": [
    "print(json.dumps(tokens, indent=4, sort_keys=True))"
   ]
  },
  {
   "cell_type": "markdown",
   "metadata": {},
   "source": [
    "## Using the Tokens\n",
    "\n",
    "Now we can get started talking to different servers. For the purpose of this tutorial we're going to show how the tokens can be passed as HTTP headers. Much of this can also be done with the __[Globus Python SDK] (http://globus-sdk-python.readthedocs.io/en/stable/)__."
   ]
  },
  {
   "cell_type": "markdown",
   "metadata": {},
   "source": [
    "### User Info\n",
    "\n",
    "First, let's use our `auth.globus.org` token to get our __[OAuth2 user information](https://docs.globus.org/api/auth/reference/#get_or_post_v2_oauth2_userinfo_resource)__. We assemble the header with the appropriate access token and do an HTTP `GET` on the resource. (N.B. We're using HTTPS even though we refer to the HTTP methods.) "
   ]
  },
  {
   "cell_type": "code",
   "execution_count": 7,
   "metadata": {},
   "outputs": [
    {
     "name": "stdout",
     "output_type": "stream",
     "text": [
      "{\n",
      "    \"email\": \"rick@globus.org\",\n",
      "    \"identity_provider\": \"41143743-f3c8-4d60-bbdb-eeecaba85bd9\",\n",
      "    \"identity_provider_display_name\": \"Globus ID\",\n",
      "    \"name\": \"Rick Wagner\",\n",
      "    \"organization\": \"Globus\",\n",
      "    \"preferred_username\": \"rpwagner@globusid.org\",\n",
      "    \"sub\": \"c4e16e62-d274-11e5-b9e9-cf0225068ce8\"\n",
      "}\n"
     ]
    }
   ],
   "source": [
    "# Create the header\n",
    "headers = {'Authorization':'Bearer '+ tokens['tokens']['auth.globus.org']['access_token']}\n",
    "\n",
    "# Get the user info as JSON\n",
    "user_info = requests.get('https://auth.globus.org/v2/oauth2/userinfo',headers=headers).json()\n",
    "\n",
    "# Look at the response\n",
    "print(json.dumps(user_info, indent=4, sort_keys=True))"
   ]
  },
  {
   "cell_type": "markdown",
   "metadata": {},
   "source": [
    "### Identities\n",
    "\n",
    "This is the __[Globus Auth API resource for identities](https://docs.globus.org/api/auth/reference/#v2_api_identities_resources)__. We use a similar process, but we're doing a `GET` on a specific identity, our own."
   ]
  },
  {
   "cell_type": "code",
   "execution_count": 8,
   "metadata": {},
   "outputs": [
    {
     "name": "stdout",
     "output_type": "stream",
     "text": [
      "{\n",
      "    \"identity\": {\n",
      "        \"email\": \"rick@globus.org\",\n",
      "        \"id\": \"c4e16e62-d274-11e5-b9e9-cf0225068ce8\",\n",
      "        \"identity_provider\": \"41143743-f3c8-4d60-bbdb-eeecaba85bd9\",\n",
      "        \"name\": \"Rick Wagner\",\n",
      "        \"organization\": \"Globus\",\n",
      "        \"status\": \"used\",\n",
      "        \"username\": \"rpwagner@globusid.org\"\n",
      "    }\n",
      "}\n"
     ]
    }
   ],
   "source": [
    "identity = requests.get('https://auth.globus.org/v2/api/identities/' + user_info['sub'],headers=headers).json()\n",
    "print(json.dumps(identity, indent=4, sort_keys=True))"
   ]
  },
  {
   "cell_type": "markdown",
   "metadata": {},
   "source": [
    "## A Minimal Workflow\n",
    "\n",
    "Let's replicate a basic workflow:\n",
    "\n",
    "1. Pull down some data\n",
    "1. Plot it\n",
    "1. Save the plot to a webserver\n",
    "1. Share the link"
   ]
  },
  {
   "cell_type": "markdown",
   "metadata": {},
   "source": [
    "### Pulling Down a CSV File\n",
    "\n",
    "For our data, we'll replicate some of the flow from the Globus __[Modern Research Data Portal](https://mrdp.globus.org)__. In particular, we'll get the climate data for Las Vegas from 1952. This is a CSV file with column names in the first row."
   ]
  },
  {
   "cell_type": "code",
   "execution_count": 9,
   "metadata": {},
   "outputs": [],
   "source": [
    "# GET the CSV from the publicly acessbible HTTPS GCS endpoint\n",
    "vegas_climate_csv = requests.get('https://tutorial-https-endpoint.globus.org/portal/catalog/dataset_las/1952.csv').text"
   ]
  },
  {
   "cell_type": "code",
   "execution_count": 10,
   "metadata": {},
   "outputs": [
    {
     "name": "stdout",
     "output_type": "stream",
     "text": [
      "(366,)\n",
      "\n",
      "(nan, nan, 659., 36.08333, -115.16667, 19520101., 0., 44., -50.)\n"
     ]
    }
   ],
   "source": [
    "# Convert the CSV into a Numpy array\n",
    "vegas_climate_array = numpy.genfromtxt(StringIO(vegas_climate_csv), delimiter=\",\", names=True)\n",
    "print(vegas_climate_array.shape)\n",
    "print()\n",
    "print(vegas_climate_array[0])"
   ]
  },
  {
   "cell_type": "code",
   "execution_count": 11,
   "metadata": {},
   "outputs": [
    {
     "name": "stdout",
     "output_type": "stream",
     "text": [
      "<Response [200]>\n"
     ]
    }
   ],
   "source": []
  },
  {
   "cell_type": "markdown",
   "metadata": {},
   "source": [
    "### Plot the Data"
   ]
  },
  {
   "cell_type": "code",
   "execution_count": 13,
   "metadata": {},
   "outputs": [
    {
     "data": {
      "text/plain": [
       "<Figure size 640x480 with 1 Axes>"
      ]
     },
     "metadata": {},
     "output_type": "display_data"
    }
   ],
   "source": [
    "import matplotlib.pyplot as plt\n",
    "import numpy as np\n",
    "\n",
    "t = np.arange(0.0, 2.0, 0.01)\n",
    "s = 1 + np.sin(2*np.pi*t)\n",
    "plt.plot(t, s)\n",
    "\n",
    "plt.xlabel('time (s)')\n",
    "plt.ylabel('voltage (mV)')\n",
    "plt.title('About as simple as it gets, folks')\n",
    "plt.grid(True)\n",
    "plt.savefig(\"test.png\")\n",
    "plt.show()"
   ]
  },
  {
   "cell_type": "markdown",
   "metadata": {},
   "source": [
    "### Save the Plot"
   ]
  },
  {
   "cell_type": "markdown",
   "metadata": {},
   "source": [
    "For these Globus Transfer API interactions we'll be using the transfer token. Also, the Globus Transfer API does not support __[`application/x-www-form-urlencoded`](https://docs.globus.org/api/transfer/overview/#document_formats)__ data so we'll be explicit about the JSON we pass.\n",
    "\n",
    "At this point, we'll:\n",
    "\n",
    "1. Activate the endpoint we're using for the tutorial\n",
    "1. Create a directory for our file\n",
    "1. `PUT` our plot there\n",
    "1. Generate a link to our plot and view it\n",
    "\n",
    "Note, the calls to Transfer can be made via the SDK, with argument validation, etc. For this tutorial we're sticking with direct HTTP request for pedagogical purposes."
   ]
  },
  {
   "cell_type": "code",
   "execution_count": 37,
   "metadata": {},
   "outputs": [],
   "source": [
    "base_url = 'https://transfer.api.globusonline.org/v0.10'\n",
    "endpoint_uuid = 'e56c36e4-1063-11e6-a747-22000bf2d559'\n",
    "\n",
    "# Create the header\n",
    "headers = {'Authorization':'Bearer '+ tokens['tokens']['transfer.api.globus.org']['access_token'],\n",
    "          \"Content-Type\" : \"application/json\"}"
   ]
  },
  {
   "cell_type": "code",
   "execution_count": 31,
   "metadata": {},
   "outputs": [
    {
     "name": "stdout",
     "output_type": "stream",
     "text": [
      "My user name is rpwagnermm2gkmjwmu3dellegi3til\n"
     ]
    }
   ],
   "source": [
    "# Grab our username (which includes a hash to avoid collision)\n",
    "username = os.getenv('JUPYTERHUB_USER')\n",
    "print(\"My user name is \" + username)"
   ]
  },
  {
   "cell_type": "code",
   "execution_count": 38,
   "metadata": {},
   "outputs": [
    {
     "name": "stdout",
     "output_type": "stream",
     "text": [
      "200\n",
      "{\n",
      "  \"DATA\": [], \n",
      "  \"DATA_TYPE\": \"activation_result\", \n",
      "  \"code\": \"AutoActivated.GlobusOnlineCredential\", \n",
      "  \"endpoint\": \"petrel#testbed\", \n",
      "  \"expire_time\": \"2018-04-25 02:54:49+00:00\", \n",
      "  \"expires_in\": -1, \n",
      "  \"length\": 0, \n",
      "  \"message\": \"Endpoint activated successfully using Globus Online credentials.\", \n",
      "  \"oauth_server\": null, \n",
      "  \"request_id\": \"SeewkpYHO\", \n",
      "  \"resource\": \"/endpoint/e56c36e4-1063-11e6-a747-22000bf2d559/autoactivate\", \n",
      "  \"subject\": \"/C=US/O=Globus Consortium/OU=Globus Connect User/CN=rpwagner\"\n",
      "}\n"
     ]
    }
   ],
   "source": [
    "# Autoactivate the endpoint\n",
    "resp = requests.post(base_url + '/endpoint/' + endpoint_uuid + '/autoactivate',\n",
    "                    headers=headers)\n",
    "print(resp.status_code)\n",
    "print(resp.text)"
   ]
  },
  {
   "cell_type": "code",
   "execution_count": 41,
   "metadata": {
    "scrolled": true
   },
   "outputs": [
    {
     "name": "stdout",
     "output_type": "stream",
     "text": [
      "502\n",
      "{\n",
      "  \"code\": \"ExternalError.MkdirFailed.Exists\", \n",
      "  \"message\": \"Path already exists, Error (mkdir)\\nEndpoint: petrel#testbed (e56c36e4-1063-11e6-a747-22000bf2d559)\\nServer: petreldtn5.pub.jlse.anl.gov:2811\\nMessage: Path '/test/jhtutorial/users/rpwagnermm2gkmjwmu3dellegi3til' already exists\\n\", \n",
      "  \"request_id\": \"7ay2v3BFH\", \n",
      "  \"resource\": \"/endpoint/e56c36e4-1063-11e6-a747-22000bf2d559/mkdir\"\n",
      "}\n"
     ]
    }
   ],
   "source": [
    "# Call the Transfer API to make the directory\n",
    "mkdir_json = json.dumps({ \"DATA_TYPE\": \"mkdir\",\n",
    "              \"path\": \"/test/jhtutorial/users/\" + username })\n",
    "\n",
    "resp = requests.post(base_url + '/endpoint/' + endpoint_uuid + '/mkdir',\n",
    "                    headers=headers, data=mkdir_json)\n",
    "print(resp.status_code)\n",
    "print(resp.text)"
   ]
  },
  {
   "cell_type": "markdown",
   "metadata": {},
   "source": [
    "### Put the Plot\n",
    "This GCS endpoint supports HTTPS and we can `PUT` the plot image file there directly. (If it was larger or many files we might want to use a Tranfer request.)"
   ]
  },
  {
   "cell_type": "code",
   "execution_count": 43,
   "metadata": {},
   "outputs": [
    {
     "name": "stdout",
     "output_type": "stream",
     "text": [
      "200\n",
      "\n"
     ]
    }
   ],
   "source": [
    "# Create the header\n",
    "headers = {'Authorization':'Bearer '+ tokens['tokens']['petrel_https_server']['access_token']}\n",
    "\n",
    "# Pass the file pointer reference to the requests library for the PUT\n",
    "image_data = open('test.png', 'rb').read()\n",
    "\n",
    "# Get the user info as JSON\n",
    "resp = requests.put('https://testbed.petrel.host/test/jhtutorial/users/' + username + '/test2.png',\n",
    "                    headers=headers, data=image_data, allow_redirects=False)\n",
    "print(resp.status_code)"
   ]
  },
  {
   "cell_type": "markdown",
   "metadata": {},
   "source": [
    "### The Link\n",
    "\n",
    "Let's look at a link to the file and call it a day."
   ]
  },
  {
   "cell_type": "code",
   "execution_count": 44,
   "metadata": {},
   "outputs": [
    {
     "name": "stdout",
     "output_type": "stream",
     "text": [
      "https://testbed.petrel.host/test/jhtutorial/users/rpwagnermm2gkmjwmu3dellegi3til/test2.png\n"
     ]
    }
   ],
   "source": [
    "print('https://testbed.petrel.host/test/jhtutorial/users/' + username + '/test2.png')"
   ]
  }
 ],
 "metadata": {
  "kernelspec": {
   "display_name": "Python 3",
   "language": "python",
   "name": "python3"
  },
  "language_info": {
   "codemirror_mode": {
    "name": "ipython",
    "version": 3
   },
   "file_extension": ".py",
   "mimetype": "text/x-python",
   "name": "python",
   "nbconvert_exporter": "python",
   "pygments_lexer": "ipython3",
   "version": "3.6.3"
  }
 },
 "nbformat": 4,
 "nbformat_minor": 2
}
