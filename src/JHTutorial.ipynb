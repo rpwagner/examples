{
 "cells": [
  {
   "cell_type": "markdown",
   "metadata": {},
   "source": [
    "# GlobusWorld 2018 JupyterHub Tutorial\n",
    "\n",
    "This tutorial will show you how to pull Globus Auth tokens from the Jupyter Notebook Server environment and use them to interact with different REST APIs secured with Globus Auth. The code in this notebook are very pedantic for clarity at each step; much of this code could be encapsulated in Python packages to simplify the work in the notebook. Research project could also add more semantically meaningful layers for their users (e.g., `MyData.download()` rather \n",
    "than `request.get('https://example.org/mydata.csv`)`."
   ]
  },
  {
   "cell_type": "markdown",
   "metadata": {},
   "source": [
    "## Import Packages"
   ]
  },
  {
   "cell_type": "code",
   "execution_count": 2,
   "metadata": {},
   "outputs": [],
   "source": [
    "# These are to get the tokens\n",
    "import os\n",
    "import pickle\n",
    "import base64\n",
    "\n",
    "# Much of what we're dealing with is JSON\n",
    "import json\n",
    "\n",
    "# We're going to be making explicit HTTPS calls\n",
    "import requests\n",
    "\n",
    "# This is to work with data for our example\n",
    "import numpy\n",
    "import matplotlib"
   ]
  },
  {
   "cell_type": "markdown",
   "metadata": {},
   "source": [
    "## Get Tokens\n",
    "\n",
    "The tokens are passed into the environment `base64` encoded pickled Python dictionary assigned to the `GLOBUS_DATA` variable. We'll grab the variable and unpack it. "
   ]
  },
  {
   "cell_type": "code",
   "execution_count": 3,
   "metadata": {},
   "outputs": [],
   "source": [
    "globus_env_data = os.getenv('GLOBUS_DATA')"
   ]
  },
  {
   "cell_type": "code",
   "execution_count": 5,
   "metadata": {},
   "outputs": [
    {
     "name": "stdout",
     "output_type": "stream",
     "text": [
      "gAN9cQAoWAkAAABjbGllbnRfaWRxAVgkAAAANGI3MjUyNDUtOTU3Ni00ODhhLThkY2ItNDdkZDY4MWFlZDE4cQJYBgAAAHRva2Vuc3EDfXEEKFgPAAAAYXV0aC5nbG9idXMub3JncQV9cQYoWAUAAABzY29wZXEHWBQAAABwcm9maWxlIG9wZW5pZCBlbWFpbHEIWAwAAABhY2Nlc3NfdG9rZW5xCVhkAAAAQWd4UEpPajZHejdwcFlYTXg0ejF5YlhEOWJFTUdlMWU0UE9rbG9vQkJ2akdtV1A0ZzJIOENONjhuYktrbTNhb1FHT3ZibVlFcGpRVndYdHFZQk83elRLYTIwQ1hndjNmZ3Y3anEKWA0AAAByZWZyZXNoX3Rva2VucQtOWAoAAAB0b2tlbl90eXBlcQxYBgAAAEJlYXJlcnENWBIAAABleHBpcmVzX2F0X3NlY29uZHNxDkoSneBadVgTAAAAcGV0cmVsX2h0dHBzX3NlcnZlcnEPfXEQKGgHWEcAAABodHRwczovL2F1dGguZ2xvYnVzLm9yZy9zY29wZXMvNTZjZWFjMjktZTk4YS00NDBhLWE1OTQtYjQxZTdhMDg0YjYyL2FsbHERaAlYWgAAAEFnM2o2N1ZNN21OelFORWR3M0J4OU9NandwSzUyNldreDdqcE5LNHJlZ2VsYU84S3I5VFZDSk9yRXpkd3lLTzlKMTFZcmo0VjRrN3JYalNYZGdKUDJUZDI3eHESaAtOaAxYBgAAAEJlYXJlcnETaA5KEp3gWnVYFwAAAHRyYW5zZmVyLmFwaS5nbG9idXMub3JncRR9cRUoaAdYMQAAAHVybjpnbG9idXM6YXV0aDpzY29wZTp0cmFuc2Zlci5hcGkuZ2xvYnVzLm9yZzphbGxxFmgJWFoAAABBZ3EwMnhkejlQbjNLN05OdzhrcEs0bjB6ajJtMFd6RGtNeHB6NjFhbW9PS2xLN09CbUlxQ083RWRNM3A2MlE4d1ZWWTVPODJXbjBYcll1UDVqemFYaDlZbVhxF2gLTmgMWAYAAABCZWFyZXJxGGgOShKd4Fp1dVgIAAAAaWRfdG9rZW5xGX1xGihYAwAAAGF1ZHEbWCQAAAA0YjcyNTI0NS05NTc2LTQ4OGEtOGRjYi00N2RkNjgxYWVkMThxHFgeAAAAaWRlbnRpdHlfcHJvdmlkZXJfZGlzcGxheV9uYW1lcR1YCQAAAEdsb2J1cyBJRHEeWAMAAABzdWJxH1gkAAAAYzRlMTZlNjItZDI3NC0xMWU1LWI5ZTktY2YwMjI1MDY4Y2U4cSBYAwAAAGlzc3EhWBcAAABodHRwczovL2F1dGguZ2xvYnVzLm9yZ3EiWBIAAABwcmVmZXJyZWRfdXNlcm5hbWVxI1gVAAAAcnB3YWduZXJAZ2xvYnVzaWQub3JncSRYBwAAAGF0X2hhc2hxJVgrAAAAYWltUjBib0tWMkQtVVNmY1Bza3EwelZYcTFFeXV4OEM0YzNJaHJzRVNqWXEmWBEAAABpZGVudGl0eV9wcm92aWRlcnEnWCQAAAA0MTE0Mzc0My1mM2M4LTRkNjAtYmJkYi1lZWVjYWJhODViZDlxKFgDAAAAZXhwcSlKEp3gWlgDAAAAaWF0cSpKEvrdWlgMAAAAb3JnYW5pemF0aW9ucStYBgAAAEdsb2J1c3EsWAUAAABlbWFpbHEtWA8AAAByaWNrQGdsb2J1cy5vcmdxLlgEAAAAbmFtZXEvWAsAAABSaWNrIFdhZ25lcnEwdXUu\n"
     ]
    }
   ],
   "source": [
    "# This is the raw base64 encoded data\n",
    "print(globus_env_data)"
   ]
  },
  {
   "cell_type": "code",
   "execution_count": 6,
   "metadata": {},
   "outputs": [],
   "source": [
    "# Now we have the pickled tokens\n",
    "pickled_tokens = base64.b64decode(globus_env_data)"
   ]
  },
  {
   "cell_type": "code",
   "execution_count": 8,
   "metadata": {},
   "outputs": [
    {
     "data": {
      "text/plain": [
       "True"
      ]
     },
     "execution_count": 8,
     "metadata": {},
     "output_type": "execute_result"
    }
   ],
   "source": [
    "# Unpickle and get the dictionary\n",
    "tokens = pickle.loads(pickled_tokens)\n",
    "isinstance(tokens, dict)"
   ]
  },
  {
   "cell_type": "markdown",
   "metadata": {},
   "source": [
    "## Look Inside the Tokens\n",
    "\n",
    "Depending on the JupyterHub configuration, there will be different numbers of tokens. For this tutorial we have our identity token as __[JSON Web Token (JWT)](https://tools.ietf.org/html/rfc7519)__, and then access tokens for different Resource Servers and scopes, like getting our profile from Globus Auth."
   ]
  },
  {
   "cell_type": "code",
   "execution_count": 9,
   "metadata": {},
   "outputs": [
    {
     "name": "stdout",
     "output_type": "stream",
     "text": [
      "{\n",
      "    \"client_id\": \"4b725245-9576-488a-8dcb-47dd681aed18\",\n",
      "    \"id_token\": {\n",
      "        \"at_hash\": \"aimR0boKV2D-USfcPskq0zVXq1Eyux8C4c3IhrsESjY\",\n",
      "        \"aud\": \"4b725245-9576-488a-8dcb-47dd681aed18\",\n",
      "        \"email\": \"rick@globus.org\",\n",
      "        \"exp\": 1524669714,\n",
      "        \"iat\": 1524496914,\n",
      "        \"identity_provider\": \"41143743-f3c8-4d60-bbdb-eeecaba85bd9\",\n",
      "        \"identity_provider_display_name\": \"Globus ID\",\n",
      "        \"iss\": \"https://auth.globus.org\",\n",
      "        \"name\": \"Rick Wagner\",\n",
      "        \"organization\": \"Globus\",\n",
      "        \"preferred_username\": \"rpwagner@globusid.org\",\n",
      "        \"sub\": \"c4e16e62-d274-11e5-b9e9-cf0225068ce8\"\n",
      "    },\n",
      "    \"tokens\": {\n",
      "        \"auth.globus.org\": {\n",
      "            \"access_token\": \"AgxPJOj6Gz7ppYXMx4z1ybXD9bEMGe1e4POklooBBvjGmWP4g2H8CN68nbKkm3aoQGOvbmYEpjQVwXtqYBO7zTKa20CXgv3fgv7j\",\n",
      "            \"expires_at_seconds\": 1524669714,\n",
      "            \"refresh_token\": null,\n",
      "            \"scope\": \"profile openid email\",\n",
      "            \"token_type\": \"Bearer\"\n",
      "        },\n",
      "        \"petrel_https_server\": {\n",
      "            \"access_token\": \"Ag3j67VM7mNzQNEdw3Bx9OMjwpK526Wkx7jpNK4regelaO8Kr9TVCJOrEzdwyKO9J11Yrj4V4k7rXjSXdgJP2Td27x\",\n",
      "            \"expires_at_seconds\": 1524669714,\n",
      "            \"refresh_token\": null,\n",
      "            \"scope\": \"https://auth.globus.org/scopes/56ceac29-e98a-440a-a594-b41e7a084b62/all\",\n",
      "            \"token_type\": \"Bearer\"\n",
      "        },\n",
      "        \"transfer.api.globus.org\": {\n",
      "            \"access_token\": \"Agq02xdz9Pn3K7NNw8kpK4n0zj2m0WzDkMxpz61amoOKlK7OBmIqCO7EdM3p62Q8wVVY5O82Wn0XrYuP5jzaXh9YmX\",\n",
      "            \"expires_at_seconds\": 1524669714,\n",
      "            \"refresh_token\": null,\n",
      "            \"scope\": \"urn:globus:auth:scope:transfer.api.globus.org:all\",\n",
      "            \"token_type\": \"Bearer\"\n",
      "        }\n",
      "    }\n",
      "}\n"
     ]
    }
   ],
   "source": [
    "print(json.dumps(tokens, indent=4, sort_keys=True))"
   ]
  },
  {
   "cell_type": "markdown",
   "metadata": {},
   "source": [
    "## Using the Tokens\n",
    "\n",
    "Now we can get started talking to different servers. For the purpose of this tutorial we're going to show how the tokens can be passed as HTTP headers. Much of this can also be done with the __[Globus Python SDK] (http://globus-sdk-python.readthedocs.io/en/stable/)__."
   ]
  },
  {
   "cell_type": "markdown",
   "metadata": {},
   "source": [
    "### User Info\n",
    "\n",
    "First, let's use our `auth.globus.org` token to get our __[OAuth2 user information](https://docs.globus.org/api/auth/reference/#get_or_post_v2_oauth2_userinfo_resource)__. We assemble the header with the appropriate access token and do an HTTP `GET` on the resource. (N.B. We're using HTTPS even though we refer to the HTTP methods.) "
   ]
  },
  {
   "cell_type": "code",
   "execution_count": 11,
   "metadata": {},
   "outputs": [
    {
     "name": "stdout",
     "output_type": "stream",
     "text": [
      "{\n",
      "    \"email\": \"rick@globus.org\",\n",
      "    \"identity_provider\": \"41143743-f3c8-4d60-bbdb-eeecaba85bd9\",\n",
      "    \"identity_provider_display_name\": \"Globus ID\",\n",
      "    \"name\": \"Rick Wagner\",\n",
      "    \"organization\": \"Globus\",\n",
      "    \"preferred_username\": \"rpwagner@globusid.org\",\n",
      "    \"sub\": \"c4e16e62-d274-11e5-b9e9-cf0225068ce8\"\n",
      "}\n"
     ]
    }
   ],
   "source": [
    "# Create the header\n",
    "headers = {'Authorization':'Bearer '+ tokens['tokens']['auth.globus.org']['access_token']}\n",
    "\n",
    "# Get the user info as JSON\n",
    "user_info = requests.get('https://auth.globus.org/v2/oauth2/userinfo',headers=headers).json()\n",
    "\n",
    "# Look at the response\n",
    "print(json.dumps(user_info, indent=4, sort_keys=True))"
   ]
  },
  {
   "cell_type": "markdown",
   "metadata": {},
   "source": [
    "### Identities\n",
    "\n",
    "This is the __[Globus Auth API resource for identities](https://docs.globus.org/api/auth/reference/#v2_api_identities_resources)__. We use a similar process, but we're doing a `GET` on a specific identity, our own."
   ]
  },
  {
   "cell_type": "code",
   "execution_count": 12,
   "metadata": {},
   "outputs": [
    {
     "name": "stdout",
     "output_type": "stream",
     "text": [
      "{\n",
      "    \"identity\": {\n",
      "        \"email\": \"rick@globus.org\",\n",
      "        \"id\": \"c4e16e62-d274-11e5-b9e9-cf0225068ce8\",\n",
      "        \"identity_provider\": \"41143743-f3c8-4d60-bbdb-eeecaba85bd9\",\n",
      "        \"name\": \"Rick Wagner\",\n",
      "        \"organization\": \"Globus\",\n",
      "        \"status\": \"used\",\n",
      "        \"username\": \"rpwagner@globusid.org\"\n",
      "    }\n",
      "}\n"
     ]
    }
   ],
   "source": [
    "identity = requests.get('https://auth.globus.org/v2/api/identities/' + user_info['sub'],headers=headers).json()\n",
    "print(json.dumps(identity, indent=4, sort_keys=True))"
   ]
  },
  {
   "cell_type": "markdown",
   "metadata": {},
   "source": [
    "## A Minimal Workflow\n",
    "\n",
    "Let's replicate a basic workflow:\n",
    "\n",
    "1. Pull down some data\n",
    "1. Plot it\n",
    "1. Save the plot to a webserver\n",
    "1. Share the link"
   ]
  },
  {
   "cell_type": "markdown",
   "metadata": {},
   "source": [
    "### Pulling Down a CSV File"
   ]
  },
  {
   "cell_type": "markdown",
   "metadata": {},
   "source": [
    "### Plot the Data"
   ]
  },
  {
   "cell_type": "markdown",
   "metadata": {},
   "source": [
    "### Save the Plot"
   ]
  },
  {
   "cell_type": "markdown",
   "metadata": {},
   "source": [
    "### Check the Link"
   ]
  },
  {
   "cell_type": "code",
   "execution_count": 12,
   "metadata": {},
   "outputs": [],
   "source": [
    "# http://statweb.stanford.edu/~sabatti/data.html\n",
    "net_data = requests.get('http://hci.stanford.edu/courses/cs448b/data/ipasn/cs448b_ipasn.csv').text"
   ]
  },
  {
   "cell_type": "code",
   "execution_count": null,
   "metadata": {},
   "outputs": [],
   "source": []
  }
 ],
 "metadata": {
  "kernelspec": {
   "display_name": "Python 3",
   "language": "python",
   "name": "python3"
  },
  "language_info": {
   "codemirror_mode": {
    "name": "ipython",
    "version": 3
   },
   "file_extension": ".py",
   "mimetype": "text/x-python",
   "name": "python",
   "nbconvert_exporter": "python",
   "pygments_lexer": "ipython3",
   "version": "3.6.3"
  }
 },
 "nbformat": 4,
 "nbformat_minor": 2
}
