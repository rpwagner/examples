{
 "cells": [
  {
   "cell_type": "code",
   "execution_count": 1,
   "metadata": {},
   "outputs": [],
   "source": [
    "import pickle\n",
    "import base64\n",
    "import os\n",
    "import json\n",
    "import requests"
   ]
  },
  {
   "cell_type": "code",
   "execution_count": 2,
   "metadata": {},
   "outputs": [],
   "source": [
    "globus_env_data = os.getenv('GLOBUS_DATA')"
   ]
  },
  {
   "cell_type": "code",
   "execution_count": 3,
   "metadata": {},
   "outputs": [
    {
     "name": "stdout",
     "output_type": "stream",
     "text": [
      "gAN9cQAoWAkAAABjbGllbnRfaWRxAVgkAAAANGI3MjUyNDUtOTU3Ni00ODhhLThkY2ItNDdkZDY4MWFlZDE4cQJYBgAAAHRva2Vuc3EDfXEEKFgPAAAAYXV0aC5nbG9idXMub3JncQV9cQYoWAUAAABzY29wZXEHWA4AAABwcm9maWxlIG9wZW5pZHEIWAwAAABhY2Nlc3NfdG9rZW5xCVhfAAAAQWdvNVBNUE83YTIwN1FuUG9ORWRZRzB5NjU5RHk0bjBnd0puOHFWZWpXYWR4eGQ2MnZpZ0NKMVFkSm9yTTFsemo5SjFRN1Btb0JYQmVESUs5cmtLRVQ4a0VtY2tsYW9xClgNAAAAcmVmcmVzaF90b2tlbnELTlgKAAAAdG9rZW5fdHlwZXEMWAYAAABCZWFyZXJxDVgSAAAAZXhwaXJlc19hdF9zZWNvbmRzcQ5KrFDeWnVYFwAAAHRyYW5zZmVyLmFwaS5nbG9idXMub3JncQ99cRAoaAdYMQAAAHVybjpnbG9idXM6YXV0aDpzY29wZTp0cmFuc2Zlci5hcGkuZ2xvYnVzLm9yZzphbGxxEWgJWFoAAABBZzFnZWUzZXJFcjY3Qlk3YnZxbW5lOG9kNmwzVmQzNXkwRE5uYTZwb3g0RWI0a3l2ZXUyQ2oyZ0I0N3hnUUJ5eTRWMVgxWHpLeERyT2toNDk4WDRlc2dxRDVxEmgLTmgMWAYAAABCZWFyZXJxE2gOSqxQ3lp1dVgIAAAAaWRfdG9rZW5xFH1xFShYHgAAAGlkZW50aXR5X3Byb3ZpZGVyX2Rpc3BsYXlfbmFtZXEWWAkAAABHbG9idXMgSURxF1gDAAAAc3VicRhYJAAAAGM0ZTE2ZTYyLWQyNzQtMTFlNS1iOWU5LWNmMDIyNTA2OGNlOHEZWAMAAABpc3NxGlgXAAAAaHR0cHM6Ly9hdXRoLmdsb2J1cy5vcmdxG1gSAAAAcHJlZmVycmVkX3VzZXJuYW1lcRxYFQAAAHJwd2FnbmVyQGdsb2J1c2lkLm9yZ3EdWAcAAABhdF9oYXNocR5YKwAAAEdYblhoNmsxdlJlbmdHcUpUSE95OUlSb3cyb196QVEwUXFzSTNLQmFaeEFxH1gRAAAAaWRlbnRpdHlfcHJvdmlkZXJxIFgkAAAANDExNDM3NDMtZjNjOC00ZDYwLWJiZGItZWVlY2FiYTg1YmQ5cSFYAwAAAGV4cHEiSqxQ3lpYAwAAAGlhdHEjSqyt21pYDAAAAG9yZ2FuaXphdGlvbnEkWAYAAABHbG9idXNxJVgDAAAAYXVkcSZYJAAAADRiNzI1MjQ1LTk1NzYtNDg4YS04ZGNiLTQ3ZGQ2ODFhZWQxOHEnWAQAAABuYW1lcShYCwAAAFJpY2sgV2FnbmVycSl1dS4=\n"
     ]
    }
   ],
   "source": [
    "print(globus_env_data)"
   ]
  },
  {
   "cell_type": "code",
   "execution_count": 4,
   "metadata": {},
   "outputs": [],
   "source": [
    "pickled_tokens = base64.b64decode(globus_env_data)"
   ]
  },
  {
   "cell_type": "code",
   "execution_count": 5,
   "metadata": {},
   "outputs": [],
   "source": [
    "tokens = pickle.loads(pickled_tokens)"
   ]
  },
  {
   "cell_type": "code",
   "execution_count": 6,
   "metadata": {},
   "outputs": [
    {
     "name": "stdout",
     "output_type": "stream",
     "text": [
      "{\n",
      "    \"client_id\": \"4b725245-9576-488a-8dcb-47dd681aed18\",\n",
      "    \"id_token\": {\n",
      "        \"at_hash\": \"GXnXh6k1vRengGqJTHOy9IRow2o_zAQ0QqsI3KBaZxA\",\n",
      "        \"aud\": \"4b725245-9576-488a-8dcb-47dd681aed18\",\n",
      "        \"exp\": 1524519084,\n",
      "        \"iat\": 1524346284,\n",
      "        \"identity_provider\": \"41143743-f3c8-4d60-bbdb-eeecaba85bd9\",\n",
      "        \"identity_provider_display_name\": \"Globus ID\",\n",
      "        \"iss\": \"https://auth.globus.org\",\n",
      "        \"name\": \"Rick Wagner\",\n",
      "        \"organization\": \"Globus\",\n",
      "        \"preferred_username\": \"rpwagner@globusid.org\",\n",
      "        \"sub\": \"c4e16e62-d274-11e5-b9e9-cf0225068ce8\"\n",
      "    },\n",
      "    \"tokens\": {\n",
      "        \"auth.globus.org\": {\n",
      "            \"access_token\": \"Ago5PMPO7a207QnPoNEdYG0y659Dy4n0gwJn8qVejWadxxd62vigCJ1QdJorM1lzj9J1Q7PmoBXBeDIK9rkKET8kEmcklao\",\n",
      "            \"expires_at_seconds\": 1524519084,\n",
      "            \"refresh_token\": null,\n",
      "            \"scope\": \"profile openid\",\n",
      "            \"token_type\": \"Bearer\"\n",
      "        },\n",
      "        \"transfer.api.globus.org\": {\n",
      "            \"access_token\": \"Ag1gee3erEr67BY7bvqmne8od6l3Vd35y0DNna6pox4Eb4kyveu2Cj2gB47xgQByy4V1X1XzKxDrOkh498X4esgqD5\",\n",
      "            \"expires_at_seconds\": 1524519084,\n",
      "            \"refresh_token\": null,\n",
      "            \"scope\": \"urn:globus:auth:scope:transfer.api.globus.org:all\",\n",
      "            \"token_type\": \"Bearer\"\n",
      "        }\n",
      "    }\n",
      "}\n"
     ]
    }
   ],
   "source": [
    "print(json.dumps(tokens, indent=4, sort_keys=True))"
   ]
  },
  {
   "cell_type": "code",
   "execution_count": 6,
   "metadata": {},
   "outputs": [],
   "source": []
  },
  {
   "cell_type": "code",
   "execution_count": 10,
   "metadata": {},
   "outputs": [
    {
     "name": "stdout",
     "output_type": "stream",
     "text": [
      "{\n",
      "    \"identity_provider\": \"41143743-f3c8-4d60-bbdb-eeecaba85bd9\",\n",
      "    \"identity_provider_display_name\": \"Globus ID\",\n",
      "    \"name\": \"Rick Wagner\",\n",
      "    \"organization\": \"Globus\",\n",
      "    \"preferred_username\": \"rpwagner@globusid.org\",\n",
      "    \"sub\": \"c4e16e62-d274-11e5-b9e9-cf0225068ce8\"\n",
      "}\n"
     ]
    }
   ],
   "source": [
    "headers = {'Authorization':'Bearer '+ tokens['tokens']['auth.globus.org']['access_token']}\n",
    "user_info = requests.get('https://auth.globus.org/v2/oauth2/userinfo',headers=headers).json()\n",
    "print(json.dumps(user_info, indent=4, sort_keys=True))"
   ]
  },
  {
   "cell_type": "code",
   "execution_count": 11,
   "metadata": {},
   "outputs": [
    {
     "name": "stdout",
     "output_type": "stream",
     "text": [
      "{\n",
      "    \"identity\": {\n",
      "        \"email\": \"rick@globus.org\",\n",
      "        \"id\": \"c4e16e62-d274-11e5-b9e9-cf0225068ce8\",\n",
      "        \"identity_provider\": \"41143743-f3c8-4d60-bbdb-eeecaba85bd9\",\n",
      "        \"name\": \"Rick Wagner\",\n",
      "        \"organization\": \"Globus\",\n",
      "        \"status\": \"used\",\n",
      "        \"username\": \"rpwagner@globusid.org\"\n",
      "    }\n",
      "}\n"
     ]
    }
   ],
   "source": [
    "identity = requests.get('https://auth.globus.org/v2/api/identities/' + user_info['sub'],headers=headers).json()\n",
    "print(json.dumps(identity, indent=4, sort_keys=True))"
   ]
  },
  {
   "cell_type": "code",
   "execution_count": 12,
   "metadata": {},
   "outputs": [],
   "source": [
    "# http://statweb.stanford.edu/~sabatti/data.html\n",
    "net_data = requests.get('http://hci.stanford.edu/courses/cs448b/data/ipasn/cs448b_ipasn.csv').text"
   ]
  },
  {
   "cell_type": "code",
   "execution_count": null,
   "metadata": {},
   "outputs": [],
   "source": []
  }
 ],
 "metadata": {
  "kernelspec": {
   "display_name": "Python 3",
   "language": "python",
   "name": "python3"
  },
  "language_info": {
   "codemirror_mode": {
    "name": "ipython",
    "version": 3
   },
   "file_extension": ".py",
   "mimetype": "text/x-python",
   "name": "python",
   "nbconvert_exporter": "python",
   "pygments_lexer": "ipython3",
   "version": "3.6.3"
  }
 },
 "nbformat": 4,
 "nbformat_minor": 2
}
